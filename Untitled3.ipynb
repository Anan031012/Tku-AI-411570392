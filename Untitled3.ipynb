{
  "nbformat": 4,
  "nbformat_minor": 0,
  "metadata": {
    "colab": {
      "provenance": [],
      "authorship_tag": "ABX9TyMPgWsMCKbCRVec42Et1mr+",
      "include_colab_link": true
    },
    "kernelspec": {
      "name": "python3",
      "display_name": "Python 3"
    },
    "language_info": {
      "name": "python"
    }
  },
  "cells": [
    {
      "cell_type": "markdown",
      "metadata": {
        "id": "view-in-github",
        "colab_type": "text"
      },
      "source": [
        "<a href=\"https://colab.research.google.com/github/Anan031012/Tku-AI-411570392/blob/main/Untitled3.ipynb\" target=\"_parent\"><img src=\"https://colab.research.google.com/assets/colab-badge.svg\" alt=\"Open In Colab\"/></a>"
      ]
    },
    {
      "cell_type": "code",
      "execution_count": 1,
      "metadata": {
        "colab": {
          "base_uri": "https://localhost:8080/"
        },
        "id": "eZ66hSCxonxU",
        "outputId": "719263bb-2cb9-4423-a586-e7cb08177f1f"
      },
      "outputs": [
        {
          "output_type": "stream",
          "name": "stdout",
          "text": [
            "請輸入中文成績：50\n",
            "請輸入英文成績：60\n",
            "請輸入數學成績：70\n",
            "總分 180\n"
          ]
        }
      ],
      "source": [
        "chinese=input(\"請輸入中文成績：\")\n",
        "english=input(\"請輸入英文成績：\")\n",
        "math=input(\"請輸入數學成績：\")\n",
        "total=int(english)+int(math)+int(chinese)\n",
        "print(\"總分\",total)"
      ]
    },
    {
      "cell_type": "code",
      "source": [
        "print(12+3)\n",
        "print(12-3)\n",
        "print(12*3)\n",
        "print(32/5)\n",
        "print(32%5)\n",
        "print(32//5)\n",
        "print(7**2)"
      ],
      "metadata": {
        "colab": {
          "base_uri": "https://localhost:8080/"
        },
        "id": "MRT8m3aXqJD-",
        "outputId": "070c6d12-c0c7-4cdc-db5e-28710f73db99"
      },
      "execution_count": 5,
      "outputs": [
        {
          "output_type": "stream",
          "name": "stdout",
          "text": [
            "15\n",
            "9\n",
            "36\n",
            "6.4\n",
            "2\n",
            "6\n",
            "49\n"
          ]
        }
      ]
    },
    {
      "cell_type": "code",
      "source": [
        "上底=int(input('請輸入梯形上底長度'))\n",
        "下底=int(input('請輸入梯形下底長度'))\n",
        "高=int(input('請輸入梯形高度'))\n",
        "面積=(上底+下底)*高/2\n",
        "print(\"上底：\",上底,\"下底：\",下底,\"高：\",高,\"面積：\",面積)"
      ],
      "metadata": {
        "colab": {
          "base_uri": "https://localhost:8080/"
        },
        "id": "MkODtDHRqok7",
        "outputId": "7b73b1fe-13f9-42ee-bd1c-5be46f9a0a8c"
      },
      "execution_count": 7,
      "outputs": [
        {
          "output_type": "stream",
          "name": "stdout",
          "text": [
            "請輸入梯形上底長度3\n",
            "請輸入梯形下底長度4\n",
            "請輸入梯形高度3\n",
            "上底： 3 下底： 4 高： 3 面積： 10.5\n"
          ]
        }
      ]
    }
  ]
}