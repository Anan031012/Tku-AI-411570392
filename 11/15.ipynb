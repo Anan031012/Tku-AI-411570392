{
  "nbformat": 4,
  "nbformat_minor": 0,
  "metadata": {
    "colab": {
      "provenance": [],
      "authorship_tag": "ABX9TyMAlALmhjJi5JnemaJmF9sU",
      "include_colab_link": true
    },
    "kernelspec": {
      "name": "python3",
      "display_name": "Python 3"
    },
    "language_info": {
      "name": "python"
    }
  },
  "cells": [
    {
      "cell_type": "markdown",
      "metadata": {
        "id": "view-in-github",
        "colab_type": "text"
      },
      "source": [
        "<a href=\"https://colab.research.google.com/github/Anan031012/Tku-AI-411570392/blob/main/11/15.ipynb\" target=\"_parent\"><img src=\"https://colab.research.google.com/assets/colab-badge.svg\" alt=\"Open In Colab\"/></a>"
      ]
    },
    {
      "cell_type": "code",
      "execution_count": 9,
      "metadata": {
        "colab": {
          "base_uri": "https://localhost:8080/"
        },
        "id": "atHcTj-NtIgs",
        "outputId": "4dc9665d-b31f-4e0a-dd74-a3c4122f2fa2"
      },
      "outputs": [
        {
          "output_type": "stream",
          "name": "stdout",
          "text": [
            "Hi, Python\n"
          ]
        }
      ],
      "source": [
        "print(\"Hi, Python\")"
      ]
    },
    {
      "cell_type": "markdown",
      "source": [
        "Today is 11/15/."
      ],
      "metadata": {
        "id": "SDMOSl2RuF5I"
      }
    },
    {
      "cell_type": "code",
      "source": [
        "print(\"Today is 11/15.\")"
      ],
      "metadata": {
        "colab": {
          "base_uri": "https://localhost:8080/"
        },
        "id": "I2hktg6ruLDP",
        "outputId": "7809a497-7175-4eb9-9e94-be8a6cd53b57"
      },
      "execution_count": 10,
      "outputs": [
        {
          "output_type": "stream",
          "name": "stdout",
          "text": [
            "Today is 11/15.\n"
          ]
        }
      ]
    },
    {
      "cell_type": "code",
      "source": [
        "print(\"詹沐安,411570392\")"
      ],
      "metadata": {
        "colab": {
          "base_uri": "https://localhost:8080/"
        },
        "id": "LISWZbfewak6",
        "outputId": "e3177118-b40c-4f14-e164-d9c8ada60631"
      },
      "execution_count": 11,
      "outputs": [
        {
          "output_type": "stream",
          "name": "stdout",
          "text": [
            "詹沐安,411570392\n"
          ]
        }
      ]
    }
  ]
}